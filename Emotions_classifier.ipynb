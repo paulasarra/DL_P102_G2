{
  "nbformat": 4,
  "nbformat_minor": 0,
  "metadata": {
    "kernelspec": {
      "display_name": "Python 2",
      "language": "python",
      "name": "python2"
    },
    "language_info": {
      "codemirror_mode": {
        "name": "ipython",
        "version": 2
      },
      "file_extension": ".py",
      "mimetype": "text/x-python",
      "name": "python",
      "nbconvert_exporter": "python",
      "pygments_lexer": "ipython2",
      "version": "2.7.12"
    },
    "colab": {
      "name": "Emotions_classifier.ipynb",
      "provenance": [],
      "collapsed_sections": []
    },
    "accelerator": "GPU"
  },
  "cells": [
    {
      "cell_type": "markdown",
      "metadata": {
        "id": "nAHyTVUoNmaJ"
      },
      "source": [
        "# **We used this code to classify emotions**"
      ]
    },
    {
      "cell_type": "markdown",
      "metadata": {
        "id": "mcY7RV4rJMww"
      },
      "source": [
        "## importing python libraries"
      ]
    },
    {
      "cell_type": "code",
      "metadata": {
        "colab": {
          "base_uri": "https://localhost:8080/"
        },
        "id": "c05CugWtMLTs",
        "outputId": "5bfa10a1-59ae-4dee-ac49-25445a2d4d93"
      },
      "source": [
        "!pip install face_recognition"
      ],
      "execution_count": null,
      "outputs": [
        {
          "output_type": "stream",
          "text": [
            "Requirement already satisfied: face_recognition in /usr/local/lib/python2.7/dist-packages (1.3.0)\n",
            "Requirement already satisfied: numpy in /usr/local/lib/python2.7/dist-packages (from face_recognition) (1.16.4)\n",
            "Requirement already satisfied: Click>=6.0 in /usr/local/lib/python2.7/dist-packages (from face_recognition) (7.0)\n",
            "Requirement already satisfied: Pillow in /usr/local/lib/python2.7/dist-packages (from face_recognition) (4.3.0)\n",
            "Requirement already satisfied: face-recognition-models>=0.3.0 in /usr/local/lib/python2.7/dist-packages (from face_recognition) (0.3.0)\n",
            "Requirement already satisfied: dlib>=19.7 in /usr/local/lib/python2.7/dist-packages (from face_recognition) (19.18.0)\n",
            "Requirement already satisfied: olefile in /usr/local/lib/python2.7/dist-packages (from Pillow->face_recognition) (0.46)\n"
          ],
          "name": "stdout"
        }
      ]
    },
    {
      "cell_type": "code",
      "metadata": {
        "id": "SBUhhyjlJMw0"
      },
      "source": [
        "!pip freeze> requirements.txt"
      ],
      "execution_count": null,
      "outputs": []
    },
    {
      "cell_type": "code",
      "metadata": {
        "id": "aoy8KWgVJMwz"
      },
      "source": [
        "from PIL import Image\n",
        "from matplotlib import pyplot as plt\n",
        "import numpy as np\n",
        "import face_recognition\n",
        "import keras\n",
        "from keras.models import load_model\n",
        "import cv2\n",
        "from tqdm import tqdm\n",
        "from PIL import Image\n",
        "import numpy as np\n",
        "import pandas as pd\n",
        "import os"
      ],
      "execution_count": null,
      "outputs": []
    },
    {
      "cell_type": "code",
      "metadata": {
        "colab": {
          "base_uri": "https://localhost:8080/"
        },
        "id": "meNbJRiDJTad",
        "outputId": "8ce79611-0cc4-4bdf-e385-6b605ddd590c"
      },
      "source": [
        "from google.colab import drive\n",
        "drive.mount('/content/drive')"
      ],
      "execution_count": null,
      "outputs": [
        {
          "output_type": "stream",
          "text": [
            "Drive already mounted at /content/drive; to attempt to forcibly remount, call drive.mount(\"/content/drive\", force_remount=True).\n"
          ],
          "name": "stdout"
        }
      ]
    },
    {
      "cell_type": "markdown",
      "metadata": {
        "id": "s3L1p_dsJMw7"
      },
      "source": [
        "## Emotion detection"
      ]
    },
    {
      "cell_type": "markdown",
      "metadata": {
        "id": "ziPRYDB8JMw8"
      },
      "source": [
        "### Reading a sample image "
      ]
    },
    {
      "cell_type": "code",
      "metadata": {
        "colab": {
          "base_uri": "https://localhost:8080/"
        },
        "id": "oJymKojAXiiw",
        "outputId": "83fe78af-5db4-4e6f-842b-b2da4d86e906"
      },
      "source": [
        "PIC_DIR = 'add the directory where you have the images to classify'\n",
        "\n",
        "IMAGES_COUNT = 10\n",
        "\n",
        "images = []\n",
        "for pic_file in tqdm(os.listdir(PIC_DIR)[:IMAGES_COUNT]):\n",
        "    pic = Image.open(PIC_DIR + pic_file).convert('RGB')\n",
        "    pic.thumbnail((128,128))\n",
        "    images.append(np.uint8(pic))"
      ],
      "execution_count": null,
      "outputs": [
        {
          "output_type": "stream",
          "text": [
            "\n",
            "  0%|          | 0/133 [00:00<?, ?it/s]\u001b[A\n",
            " 84%|████████▍ | 112/133 [00:00<00:00, 1115.58it/s]\u001b[A\n",
            "100%|██████████| 133/133 [00:00<00:00, 1050.94it/s]\u001b[A"
          ],
          "name": "stderr"
        }
      ]
    },
    {
      "cell_type": "code",
      "metadata": {
        "colab": {
          "base_uri": "https://localhost:8080/",
          "height": 258
        },
        "id": "2zIjtaphX6xK",
        "outputId": "9110c967-b239-4497-9396-a2de1ac80f1e"
      },
      "source": [
        "plt.figure(1, figsize=(10, 10))\n",
        "for i in range(10):\n",
        "    plt.subplot(5, 5, i+1)\n",
        "    plt.imshow(images[i])\n",
        "    plt.axis('off')\n",
        "plt.show()"
      ],
      "execution_count": null,
      "outputs": [
        {
          "output_type": "display_data",
          "data": {
            "image/png": "[encoded data removed]",
            "text/plain": [
              "<Figure size 720x720 with 10 Axes>"
            ]
          },
          "metadata": {
            "tags": [],
            "needs_background": "light"
          }
        }
      ]
    },
    {
      "cell_type": "code",
      "metadata": {
        "id": "Bw3TT2bTYsb4"
      },
      "source": [
        "for i in range(IMAGES_COUNT):\n",
        "  images[i] = cv2.resize(images[i], (48,48))\n",
        "  images[i] = cv2.cvtColor(images[i], cv2.COLOR_BGR2GRAY)\n",
        "  images[i] = np.reshape(images[i], [1, images[i].shape[0], images[i].shape[1], 1])\n",
        "\n"
      ],
      "execution_count": null,
      "outputs": []
    },
    {
      "cell_type": "markdown",
      "metadata": {
        "id": "ZBUG5KKCJMw9"
      },
      "source": [
        "\n",
        "\n",
        "### Load the model trained for detecting emotions of a face"
      ]
    },
    {
      "cell_type": "code",
      "metadata": {
        "id": "DQh-7Vd1JMw9"
      },
      "source": [
        "model = load_model(\"/content/drive/Shareddrives/Deep team/DeepLearning_2021/final project/emotions_after/model_v6_23.hdf5\")"
      ],
      "execution_count": null,
      "outputs": []
    },
    {
      "cell_type": "markdown",
      "metadata": {
        "id": "zn_uR_jDJMw9"
      },
      "source": [
        "### Predicted label"
      ]
    },
    {
      "cell_type": "code",
      "metadata": {
        "id": "wVW81yC7JMw9",
        "colab": {
          "base_uri": "https://localhost:8080/"
        },
        "outputId": "3b8051c7-0f6a-4999-cf8c-457d97e1fcf3"
      },
      "source": [
        "\n",
        "for i in range(IMAGES_COUNT):\n",
        "  predicted_class = np.argmax(model.predict(images[i]))\n",
        "  label_map = dict((v,k) for k,v in emotion_dict.items()) \n",
        "  predicted_label = label_map[predicted_class]\n",
        "  print('Image:',i+1, 'predicted emotion',predicted_label)\n"
      ],
      "execution_count": null,
      "outputs": [
        {
          "output_type": "stream",
          "text": [
            "('Image:', 1, 'predicted emotion', 'Surprise')\n",
            "('Image:', 2, 'predicted emotion', 'Angry')\n",
            "('Image:', 3, 'predicted emotion', 'Fear')\n",
            "('Image:', 4, 'predicted emotion', 'Angry')\n",
            "('Image:', 5, 'predicted emotion', 'Surprise')\n",
            "('Image:', 6, 'predicted emotion', 'Fear')\n",
            "('Image:', 7, 'predicted emotion', 'Fear')\n",
            "('Image:', 8, 'predicted emotion', 'Fear')\n",
            "('Image:', 9, 'predicted emotion', 'Fear')\n",
            "('Image:', 10, 'predicted emotion', 'Happy')\n",
            "('Image:', 11, 'predicted emotion', 'Fear')\n",
            "('Image:', 12, 'predicted emotion', 'Fear')\n",
            "('Image:', 13, 'predicted emotion', 'Surprise')\n",
            "('Image:', 14, 'predicted emotion', 'Surprise')\n",
            "('Image:', 15, 'predicted emotion', 'Fear')\n",
            "('Image:', 16, 'predicted emotion', 'Surprise')\n",
            "('Image:', 17, 'predicted emotion', 'Surprise')\n",
            "('Image:', 18, 'predicted emotion', 'Fear')\n",
            "('Image:', 19, 'predicted emotion', 'Fear')\n",
            "('Image:', 20, 'predicted emotion', 'Surprise')\n",
            "('Image:', 21, 'predicted emotion', 'Fear')\n",
            "('Image:', 22, 'predicted emotion', 'Angry')\n",
            "('Image:', 23, 'predicted emotion', 'Surprise')\n",
            "('Image:', 24, 'predicted emotion', 'Fear')\n",
            "('Image:', 25, 'predicted emotion', 'Angry')\n",
            "('Image:', 26, 'predicted emotion', 'Fear')\n",
            "('Image:', 27, 'predicted emotion', 'Fear')\n",
            "('Image:', 28, 'predicted emotion', 'Surprise')\n",
            "('Image:', 29, 'predicted emotion', 'Surprise')\n",
            "('Image:', 30, 'predicted emotion', 'Fear')\n",
            "('Image:', 31, 'predicted emotion', 'Fear')\n",
            "('Image:', 32, 'predicted emotion', 'Fear')\n",
            "('Image:', 33, 'predicted emotion', 'Fear')\n",
            "('Image:', 34, 'predicted emotion', 'Fear')\n",
            "('Image:', 35, 'predicted emotion', 'Angry')\n",
            "('Image:', 36, 'predicted emotion', 'Sad')\n",
            "('Image:', 37, 'predicted emotion', 'Surprise')\n",
            "('Image:', 38, 'predicted emotion', 'Fear')\n",
            "('Image:', 39, 'predicted emotion', 'Surprise')\n",
            "('Image:', 40, 'predicted emotion', 'Fear')\n",
            "('Image:', 41, 'predicted emotion', 'Surprise')\n",
            "('Image:', 42, 'predicted emotion', 'Surprise')\n",
            "('Image:', 43, 'predicted emotion', 'Fear')\n",
            "('Image:', 44, 'predicted emotion', 'Surprise')\n",
            "('Image:', 45, 'predicted emotion', 'Angry')\n",
            "('Image:', 46, 'predicted emotion', 'Surprise')\n",
            "('Image:', 47, 'predicted emotion', 'Fear')\n",
            "('Image:', 48, 'predicted emotion', 'Surprise')\n",
            "('Image:', 49, 'predicted emotion', 'Surprise')\n",
            "('Image:', 50, 'predicted emotion', 'Fear')\n",
            "('Image:', 51, 'predicted emotion', 'Angry')\n",
            "('Image:', 52, 'predicted emotion', 'Surprise')\n",
            "('Image:', 53, 'predicted emotion', 'Fear')\n",
            "('Image:', 54, 'predicted emotion', 'Fear')\n",
            "('Image:', 55, 'predicted emotion', 'Surprise')\n",
            "('Image:', 56, 'predicted emotion', 'Happy')\n",
            "('Image:', 57, 'predicted emotion', 'Fear')\n",
            "('Image:', 58, 'predicted emotion', 'Fear')\n",
            "('Image:', 59, 'predicted emotion', 'Fear')\n",
            "('Image:', 60, 'predicted emotion', 'Fear')\n",
            "('Image:', 61, 'predicted emotion', 'Surprise')\n",
            "('Image:', 62, 'predicted emotion', 'Surprise')\n",
            "('Image:', 63, 'predicted emotion', 'Surprise')\n",
            "('Image:', 64, 'predicted emotion', 'Surprise')\n",
            "('Image:', 65, 'predicted emotion', 'Surprise')\n",
            "('Image:', 66, 'predicted emotion', 'Surprise')\n",
            "('Image:', 67, 'predicted emotion', 'Surprise')\n",
            "('Image:', 68, 'predicted emotion', 'Fear')\n",
            "('Image:', 69, 'predicted emotion', 'Surprise')\n",
            "('Image:', 70, 'predicted emotion', 'Surprise')\n",
            "('Image:', 71, 'predicted emotion', 'Angry')\n",
            "('Image:', 72, 'predicted emotion', 'Fear')\n",
            "('Image:', 73, 'predicted emotion', 'Fear')\n",
            "('Image:', 74, 'predicted emotion', 'Surprise')\n",
            "('Image:', 75, 'predicted emotion', 'Happy')\n",
            "('Image:', 76, 'predicted emotion', 'Fear')\n",
            "('Image:', 77, 'predicted emotion', 'Fear')\n",
            "('Image:', 78, 'predicted emotion', 'Fear')\n",
            "('Image:', 79, 'predicted emotion', 'Surprise')\n",
            "('Image:', 80, 'predicted emotion', 'Surprise')\n",
            "('Image:', 81, 'predicted emotion', 'Fear')\n",
            "('Image:', 82, 'predicted emotion', 'Surprise')\n",
            "('Image:', 83, 'predicted emotion', 'Surprise')\n",
            "('Image:', 84, 'predicted emotion', 'Happy')\n",
            "('Image:', 85, 'predicted emotion', 'Happy')\n",
            "('Image:', 86, 'predicted emotion', 'Angry')\n",
            "('Image:', 87, 'predicted emotion', 'Surprise')\n",
            "('Image:', 88, 'predicted emotion', 'Fear')\n",
            "('Image:', 89, 'predicted emotion', 'Fear')\n",
            "('Image:', 90, 'predicted emotion', 'Fear')\n",
            "('Image:', 91, 'predicted emotion', 'Angry')\n",
            "('Image:', 92, 'predicted emotion', 'Fear')\n",
            "('Image:', 93, 'predicted emotion', 'Angry')\n",
            "('Image:', 94, 'predicted emotion', 'Fear')\n",
            "('Image:', 95, 'predicted emotion', 'Surprise')\n",
            "('Image:', 96, 'predicted emotion', 'Surprise')\n",
            "('Image:', 97, 'predicted emotion', 'Fear')\n",
            "('Image:', 98, 'predicted emotion', 'Surprise')\n",
            "('Image:', 99, 'predicted emotion', 'Fear')\n",
            "('Image:', 100, 'predicted emotion', 'Fear')\n",
            "('Image:', 101, 'predicted emotion', 'Surprise')\n",
            "('Image:', 102, 'predicted emotion', 'Surprise')\n",
            "('Image:', 103, 'predicted emotion', 'Surprise')\n",
            "('Image:', 104, 'predicted emotion', 'Fear')\n",
            "('Image:', 105, 'predicted emotion', 'Surprise')\n",
            "('Image:', 106, 'predicted emotion', 'Surprise')\n",
            "('Image:', 107, 'predicted emotion', 'Surprise')\n",
            "('Image:', 108, 'predicted emotion', 'Surprise')\n",
            "('Image:', 109, 'predicted emotion', 'Surprise')\n",
            "('Image:', 110, 'predicted emotion', 'Fear')\n",
            "('Image:', 111, 'predicted emotion', 'Fear')\n",
            "('Image:', 112, 'predicted emotion', 'Surprise')\n",
            "('Image:', 113, 'predicted emotion', 'Angry')\n",
            "('Image:', 114, 'predicted emotion', 'Surprise')\n",
            "('Image:', 115, 'predicted emotion', 'Surprise')\n",
            "('Image:', 116, 'predicted emotion', 'Fear')\n",
            "('Image:', 117, 'predicted emotion', 'Fear')\n",
            "('Image:', 118, 'predicted emotion', 'Surprise')\n",
            "('Image:', 119, 'predicted emotion', 'Fear')\n",
            "('Image:', 120, 'predicted emotion', 'Angry')\n",
            "('Image:', 121, 'predicted emotion', 'Surprise')\n",
            "('Image:', 122, 'predicted emotion', 'Surprise')\n",
            "('Image:', 123, 'predicted emotion', 'Surprise')\n",
            "('Image:', 124, 'predicted emotion', 'Angry')\n",
            "('Image:', 125, 'predicted emotion', 'Angry')\n",
            "('Image:', 126, 'predicted emotion', 'Fear')\n",
            "('Image:', 127, 'predicted emotion', 'Happy')\n",
            "('Image:', 128, 'predicted emotion', 'Surprise')\n",
            "('Image:', 129, 'predicted emotion', 'Fear')\n",
            "('Image:', 130, 'predicted emotion', 'Surprise')\n",
            "('Image:', 131, 'predicted emotion', 'Happy')\n",
            "('Image:', 132, 'predicted emotion', 'Fear')\n",
            "('Image:', 133, 'predicted emotion', 'Angry')\n"
          ],
          "name": "stdout"
        }
      ]
    },
    {
      "cell_type": "code",
      "metadata": {
        "id": "n3vVelCIjwz9"
      },
      "source": [
        ""
      ],
      "execution_count": null,
      "outputs": []
    }
  ]
}